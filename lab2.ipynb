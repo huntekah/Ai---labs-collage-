{
 "cells": [
  {
   "cell_type": "code",
   "execution_count": null,
   "metadata": {
    "collapsed": true
   },
   "outputs": [],
   "source": [
    "#trenowanie regresora logistycznego\n",
    "#wizualizacja granicy decyzyjnej\n",
    "#neuron, sieć neuronowa"
   ]
  },
  {
   "cell_type": "code",
   "execution_count": 88,
   "metadata": {
    "collapsed": false
   },
   "outputs": [],
   "source": [
    "#Regresja logistyczna - wstęp\n",
    "import matplotlib.pyplot as plt\n",
    "import numpy as np\n",
    "\n",
    "def transformation(x):\n",
    "    return 0.1*x + 0.02\n",
    "    #a = 1\n",
    "    #b = 0\n",
    "    #return a*x + b\n",
    "    \n",
    "    \n",
    "X = [1,2,4,7,8,10,12,17] #rozmiary guzów\n",
    "Y = [0,0,0,0,0,1,1,1] #flaga oceniająca ich złośliwość - 1=złośliwy / 0=niezłośliwy\n",
    "function_sampling_x_coordinates = np.linspace(0,18,500) #generowanie 500 punktów pomiędzy granicami osi X (0,18) \n",
    "function_sampling_y_coordinates = [transformation(x) for x in function_sampling_x_coordinates] #wyznaczanie wartosci funkcji transformation w tych punktach \n",
    "\n",
    "# ---Zadanie 1---\n",
    "#Zamień postać funkcji transformation tak, aby stworzyła krzywą logistyczną\n",
    "#Jaki wpływ ma zmiana wartości parametru a na funkcję?\n",
    "#Jaki wpływ ma zmiana wartości parametru b na funkcję?\n",
    "\n",
    "plt.plot(X, Y, \"o\")\n",
    "plt.plot(function_sampling_x_coordinates, function_sampling_y_coordinates, 'r-')\n",
    "plt.ylim(ymax = 1.25, ymin = -0.25)\n",
    "\n",
    "plt.show()"
   ]
  },
  {
   "cell_type": "code",
   "execution_count": 93,
   "metadata": {
    "collapsed": false
   },
   "outputs": [],
   "source": [
    "import numpy as np\n",
    "import matplotlib.pyplot as plt\n",
    "from sklearn import linear_model, datasets\n",
    "from helpers_lab2 import plot_boundary\n",
    "\n",
    "iris = datasets.load_iris()\n",
    "X = iris.data[:, :2]  #weź tylko dwie cechy przykładowego zbioru\n",
    "Y = iris.target # Y to klasy, które chcemy przewidzieć\n",
    "\n",
    "logreg = None\n",
    "\n",
    "plot_boundary(logreg, X, Y)\n",
    "#Zadanie 2:\n",
    "#Na podstawie dokumentacji sklearn, stwórz klasyfikator LogisticRegression i wytrenuj go odpowiednio, aby dobrze separował przestrzeń."
   ]
  },
  {
   "cell_type": "code",
   "execution_count": 31,
   "metadata": {
    "collapsed": true
   },
   "outputs": [],
   "source": [
    "#Sieci neuronowe\n",
    "\n",
    "#Zadanie 3:\n",
    "#Odwiedź stronę: \n",
    "# playground.tensorflow.org\n",
    "\n",
    "# 2a) Zredukuj sieć neuronową do minimalnej postaci (0 hidden layers) i rozpocznij proces uczenia na \n",
    "#    problemie nr 3 (dwa rozdzielne skupiska) - czy taka sieć (pojedynczy neuron) nauczyła się odpowiedniej granicy decyzyjnej?\n",
    "#    (spójrz na wizualizację oraz wykres training/test loss)\n",
    "#    Czy dodanie warstw ukrytych coś zmienia w kontekście wyuczenia? a w kontekście czasu wyznaczania granicy decyzyjnej?\n",
    "\n",
    "# 2b) Zmień problem na pierwszy - niebieska chmura wewnątrz pomarańczowej obręczy, czy tutaj minimalna sieć uczy się odpowiednio?\n",
    "#    Odpowiedź uzasadnij.\n",
    "#    Jak sprawić, aby sieć zaczęła dobrze działać?"
   ]
  },
  {
   "cell_type": "code",
   "execution_count": 74,
   "metadata": {
    "collapsed": false
   },
   "outputs": [],
   "source": [
    "import itertools\n",
    "from sklearn.datasets import load_digits\n",
    "import matplotlib.pyplot as plt\n",
    "from sklearn.model_selection import train_test_split\n",
    "from sklearn.neural_network import MLPClassifier\n",
    "from sklearn.preprocessing import StandardScaler\n",
    "from sklearn.metrics import classification_report,confusion_matrix\n",
    "import numpy as np\n",
    "\n",
    "%matplotlib inline\n",
    "digits = load_digits() #zbiór zawiera 1797 obrazków reprezentujących cyfry od 0 do 9\n",
    "\n",
    "fig = plt.figure(figsize = (4,4))\n",
    "fig.subplots_adjust(left=0, right=1, bottom=0, top=1, hspace=0.05, wspace=0.05)\n",
    "for i in range(16):\n",
    "    #wyświetl próbkę 16 obrazków wraz z ich prawdziwymi etykietami\n",
    "    ax = fig.add_subplot(4, 4, i+1, xticks=[], yticks=[])\n",
    "    ax.imshow(digits.images[i],cmap=plt.cm.binary,interpolation='nearest')\n",
    "    ax.text(0, 7, str(digits.target[i]))\n",
    "    \n",
    "X_train, X_test, y_train, y_test = train_test_split(digits.data, digits.target, test_size=0.2, random_state=16)\n",
    "\n",
    "# --- Zadanie 4 ---\n",
    "# Na podstawie dokumentacji sklearn, stwórz MLPClassifier, wytrenuj go a następnie użyj wytrenowanego modelu do \n",
    "# przewidywania etykiet na zbiorze testowym\n",
    "# zinstancjonuj klasyfikator w zmiennej mlp\n",
    "# listę przewidzianych etykiet umieść w obiekcie predicted\n",
    "mlp = None\n",
    "predicted = None\n",
    "\n",
    "if predicted != None:\n",
    "    # Wizualizacja macierzy pomyłek - pokazuje jakie etykiety pomylono z jakimi innymi\n",
    "    cm = confusion_matrix(y_test,predicted)\n",
    "    print(cm)\n",
    "\n",
    "    expected = y_test \n",
    "    fig = plt.figure(figsize=(8, 8))  # figure size in inches\n",
    "    fig.subplots_adjust(left=0, right=1, bottom=0, top=1, hspace=0.05, wspace=0.05)\n",
    "\n",
    "    # Wizualizacja błędnie zaanotowanych obrazków\n",
    "    cnt = 0\n",
    "    for i in range(len(X_test)):\n",
    "        if predicted[i] == expected[i]:\n",
    "            continue\n",
    "        ax = fig.add_subplot(8, 8, cnt + 1, xticks=[], yticks=[])\n",
    "        ax.imshow(X_test.reshape(-1, 8, 8)[i], cmap=plt.cm.binary, interpolation='nearest')\n",
    "        cnt += 1\n",
    "\n",
    "        ax.text(0, 7, \"generated:\" + str(predicted[i]), color='red')\n",
    "        ax.text(0, 6, \"expected:\" + str(expected[i]), color='green')"
   ]
  },
  {
   "cell_type": "code",
   "execution_count": null,
   "metadata": {
    "collapsed": true
   },
   "outputs": [],
   "source": [
    ""
   ]
  },
  {
   "cell_type": "code",
   "execution_count": null,
   "metadata": {},
   "outputs": [],
   "source": [
    ""
   ]
  },
  {
   "cell_type": "code",
   "execution_count": null,
   "metadata": {},
   "outputs": [],
   "source": [
    ""
   ]
  }
 ],
 "metadata": {
  "anaconda-cloud": {},
  "kernelspec": {
   "display_name": "Python [default]",
   "language": "python",
   "name": "python3"
  },
  "language_info": {
   "codemirror_mode": {
    "name": "ipython",
    "version": 3.0
   },
   "file_extension": ".py",
   "mimetype": "text/x-python",
   "name": "python",
   "nbconvert_exporter": "python",
   "pygments_lexer": "ipython3",
   "version": "3.5.2"
  }
 },
 "nbformat": 4,
 "nbformat_minor": 0
}